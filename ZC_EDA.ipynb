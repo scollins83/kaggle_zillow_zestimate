{
 "cells": [
  {
   "cell_type": "markdown",
   "metadata": {},
   "source": [
    "# Exploratory Data Analysis - Zillow Zestimate Competition"
   ]
  },
  {
   "cell_type": "code",
   "execution_count": 1,
   "metadata": {
    "_cell_guid": "322379dc-acab-4830-ba66-06416684b77f",
    "_uuid": "11898ff901024846560934c8cb14d56e641c2367"
   },
   "outputs": [
    {
     "ename": "CalledProcessError",
     "evalue": "Command '['ls', '../input']' returned non-zero exit status 1.",
     "output_type": "error",
     "traceback": [
      "\u001b[0;31m---------------------------------------------------------------------------\u001b[0m",
      "\u001b[0;31mCalledProcessError\u001b[0m                        Traceback (most recent call last)",
      "\u001b[0;32m<ipython-input-1-fde84f249a2a>\u001b[0m in \u001b[0;36m<module>\u001b[0;34m()\u001b[0m\n\u001b[1;32m     10\u001b[0m \u001b[0;34m\u001b[0m\u001b[0m\n\u001b[1;32m     11\u001b[0m \u001b[0;32mfrom\u001b[0m \u001b[0msubprocess\u001b[0m \u001b[0;32mimport\u001b[0m \u001b[0mcheck_output\u001b[0m\u001b[0;34m\u001b[0m\u001b[0m\n\u001b[0;32m---> 12\u001b[0;31m \u001b[0mprint\u001b[0m\u001b[0;34m(\u001b[0m\u001b[0mcheck_output\u001b[0m\u001b[0;34m(\u001b[0m\u001b[0;34m[\u001b[0m\u001b[0;34m\"ls\"\u001b[0m\u001b[0;34m,\u001b[0m \u001b[0;34m\"../input\"\u001b[0m\u001b[0;34m]\u001b[0m\u001b[0;34m)\u001b[0m\u001b[0;34m.\u001b[0m\u001b[0mdecode\u001b[0m\u001b[0;34m(\u001b[0m\u001b[0;34m\"utf8\"\u001b[0m\u001b[0;34m)\u001b[0m\u001b[0;34m)\u001b[0m\u001b[0;34m\u001b[0m\u001b[0m\n\u001b[0m\u001b[1;32m     13\u001b[0m \u001b[0;34m\u001b[0m\u001b[0m\n\u001b[1;32m     14\u001b[0m \u001b[0;31m# Any results you write to the current directory are saved as output.\u001b[0m\u001b[0;34m\u001b[0m\u001b[0;34m\u001b[0m\u001b[0m\n",
      "\u001b[0;32m/Applications/anaconda/envs/zillow_comp/lib/python3.6/subprocess.py\u001b[0m in \u001b[0;36mcheck_output\u001b[0;34m(timeout, *popenargs, **kwargs)\u001b[0m\n\u001b[1;32m    334\u001b[0m \u001b[0;34m\u001b[0m\u001b[0m\n\u001b[1;32m    335\u001b[0m     return run(*popenargs, stdout=PIPE, timeout=timeout, check=True,\n\u001b[0;32m--> 336\u001b[0;31m                **kwargs).stdout\n\u001b[0m\u001b[1;32m    337\u001b[0m \u001b[0;34m\u001b[0m\u001b[0m\n\u001b[1;32m    338\u001b[0m \u001b[0;34m\u001b[0m\u001b[0m\n",
      "\u001b[0;32m/Applications/anaconda/envs/zillow_comp/lib/python3.6/subprocess.py\u001b[0m in \u001b[0;36mrun\u001b[0;34m(input, timeout, check, *popenargs, **kwargs)\u001b[0m\n\u001b[1;32m    416\u001b[0m         \u001b[0;32mif\u001b[0m \u001b[0mcheck\u001b[0m \u001b[0;32mand\u001b[0m \u001b[0mretcode\u001b[0m\u001b[0;34m:\u001b[0m\u001b[0;34m\u001b[0m\u001b[0m\n\u001b[1;32m    417\u001b[0m             raise CalledProcessError(retcode, process.args,\n\u001b[0;32m--> 418\u001b[0;31m                                      output=stdout, stderr=stderr)\n\u001b[0m\u001b[1;32m    419\u001b[0m     \u001b[0;32mreturn\u001b[0m \u001b[0mCompletedProcess\u001b[0m\u001b[0;34m(\u001b[0m\u001b[0mprocess\u001b[0m\u001b[0;34m.\u001b[0m\u001b[0margs\u001b[0m\u001b[0;34m,\u001b[0m \u001b[0mretcode\u001b[0m\u001b[0;34m,\u001b[0m \u001b[0mstdout\u001b[0m\u001b[0;34m,\u001b[0m \u001b[0mstderr\u001b[0m\u001b[0;34m)\u001b[0m\u001b[0;34m\u001b[0m\u001b[0m\n\u001b[1;32m    420\u001b[0m \u001b[0;34m\u001b[0m\u001b[0m\n",
      "\u001b[0;31mCalledProcessError\u001b[0m: Command '['ls', '../input']' returned non-zero exit status 1."
     ]
    }
   ],
   "source": [
    "# This Python 3 environment comes with many helpful analytics libraries installed\n",
    "# It is defined by the kaggle/python docker image: https://github.com/kaggle/docker-python\n",
    "# For example, here's several helpful packages to load in \n",
    "\n",
    "import numpy as np # linear algebra\n",
    "import pandas as pd # data processing, CSV file I/O (e.g. pd.read_csv)\n",
    "\n",
    "# Input data files are available in the \"../input/\" directory.\n",
    "# For example, running this (by clicking run or pressing Shift+Enter) will list the files in the input directory\n",
    "\n",
    "from subprocess import check_output\n",
    "print(check_output([\"ls\", \"../input\"]).decode(\"utf8\"))\n",
    "\n",
    "# Any results you write to the current directory are saved as output."
   ]
  },
  {
   "cell_type": "markdown",
   "metadata": {
    "_uuid": "9b3a7ba10850fba7c379c9f17256671ebaf2c6c0"
   },
   "source": [
    "### Look at the Data Dictionary"
   ]
  },
  {
   "cell_type": "code",
   "execution_count": 8,
   "metadata": {
    "_cell_guid": "ad326a25-1ebd-4451-9788-e2197415c3e2",
    "_uuid": "cf80994079e1e9a21e81d30d53de1d3b20e59f42",
    "collapsed": true
   },
   "outputs": [],
   "source": [
    "xl = pd.ExcelFile('../input/zillow_data_dictionary.xlsx')"
   ]
  },
  {
   "cell_type": "code",
   "execution_count": 9,
   "metadata": {
    "_cell_guid": "1ef68450-96f9-4bd7-87e6-98019192ab46",
    "_uuid": "7a737fa93e5631418ea8108106e7d56836e6c6d4"
   },
   "outputs": [
    {
     "data": {
      "text/plain": [
       "['Data Dictionary',\n",
       " 'HeatingOrSystemTypeID',\n",
       " 'PropertyLandUseTypeID',\n",
       " 'StoryTypeID',\n",
       " 'AirConditioningTypeID',\n",
       " 'ArchitecturalStyleTypeID',\n",
       " 'TypeConstructionTypeID',\n",
       " 'BuildingClassTypeID']"
      ]
     },
     "execution_count": 9,
     "metadata": {},
     "output_type": "execute_result"
    }
   ],
   "source": [
    "xl.sheet_names"
   ]
  },
  {
   "cell_type": "code",
   "execution_count": 10,
   "metadata": {
    "_uuid": "98bd817a932c2fbb99247408e043c9283cef5871",
    "collapsed": true
   },
   "outputs": [],
   "source": [
    "dd = xl.parse('Data Dictionary')"
   ]
  },
  {
   "cell_type": "code",
   "execution_count": 13,
   "metadata": {
    "_cell_guid": "7cb64cc9-6f02-4761-8294-c693f2eb8d61",
    "_uuid": "414e65ef904fd2599a5c2f241c6d72a85f770e3d"
   },
   "outputs": [
    {
     "data": {
      "text/plain": [
       "(58, 2)"
      ]
     },
     "execution_count": 13,
     "metadata": {},
     "output_type": "execute_result"
    }
   ],
   "source": [
    "dd.shape"
   ]
  },
  {
   "cell_type": "code",
   "execution_count": 14,
   "metadata": {
    "_uuid": "549a5da81d4a39ee2e1acf309a7e6223d4011d41"
   },
   "outputs": [
    {
     "data": {
      "text/plain": [
       "Index(['Feature', 'Description'], dtype='object')"
      ]
     },
     "execution_count": 14,
     "metadata": {},
     "output_type": "execute_result"
    }
   ],
   "source": [
    "dd.columns"
   ]
  },
  {
   "cell_type": "code",
   "execution_count": 15,
   "metadata": {
    "_uuid": "cc1361554682ef1711f9457ffff24c3f44be2f56"
   },
   "outputs": [
    {
     "name": "stdout",
     "output_type": "stream",
     "text": [
      "'airconditioningtypeid' -  Type of cooling system present in the home (if any) ;\n",
      "'architecturalstyletypeid' -  Architectural style of the home (i.e. ranch, colonial, split-level, etc…) ;\n",
      "'basementsqft' -  Finished living area below or partially below ground level ;\n",
      "'bathroomcnt' -  Number of bathrooms in home including fractional bathrooms ;\n",
      "'bedroomcnt' -  Number of bedrooms in home  ;\n",
      "'buildingqualitytypeid' -  Overall assessment of condition of the building from best (lowest) to worst (highest) ;\n",
      "'buildingclasstypeid' - The building framing type (steel frame, wood frame, concrete/brick)  ;\n",
      "'calculatedbathnbr' -  Number of bathrooms in home including fractional bathroom ;\n",
      "'decktypeid' - Type of deck (if any) present on parcel ;\n",
      "'threequarterbathnbr' -  Number of 3/4 bathrooms in house (shower + sink + toilet) ;\n",
      "'finishedfloor1squarefeet' -  Size of the finished living area on the first (entry) floor of the home ;\n",
      "'calculatedfinishedsquarefeet' -  Calculated total finished living area of the home  ;\n",
      "'finishedsquarefeet6' - Base unfinished and finished area ;\n",
      "'finishedsquarefeet12' - Finished living area ;\n",
      "'finishedsquarefeet13' - Perimeter  living area ;\n",
      "'finishedsquarefeet15' - Total area ;\n",
      "'finishedsquarefeet50' -  Size of the finished living area on the first (entry) floor of the home ;\n",
      "'fips' -  Federal Information Processing Standard code -  see https://en.wikipedia.org/wiki/FIPS_county_code for more details ;\n",
      "'fireplacecnt' -  Number of fireplaces in a home (if any) ;\n",
      "'fireplaceflag' -  Is a fireplace present in this home  ;\n",
      "'fullbathcnt' -  Number of full bathrooms (sink, shower + bathtub, and toilet) present in home ;\n",
      "'garagecarcnt' -  Total number of garages on the lot including an attached garage ;\n",
      "'garagetotalsqft' -  Total number of square feet of all garages on lot including an attached garage ;\n",
      "'hashottuborspa' -  Does the home have a hot tub or spa ;\n",
      "'heatingorsystemtypeid' -  Type of home heating system ;\n",
      "'latitude' -  Latitude of the middle of the parcel multiplied by 10e6 ;\n",
      "'longitude' -  Longitude of the middle of the parcel multiplied by 10e6 ;\n",
      "'lotsizesquarefeet' -  Area of the lot in square feet ;\n",
      "'numberofstories' -  Number of stories or levels the home has ;\n",
      "'parcelid' -  Unique identifier for parcels (lots)  ;\n",
      "'poolcnt' -  Number of pools on the lot (if any) ;\n",
      "'poolsizesum' -  Total square footage of all pools on property ;\n",
      "'pooltypeid10' -  Spa or Hot Tub ;\n",
      "'pooltypeid2' -  Pool with Spa/Hot Tub ;\n",
      "'pooltypeid7' -  Pool without hot tub ;\n",
      "'propertycountylandusecode' -  County land use code i.e. it's zoning at the county level ;\n",
      "'propertylandusetypeid' -  Type of land use the property is zoned for ;\n",
      "'propertyzoningdesc' -  Description of the allowed land uses (zoning) for that property ;\n",
      "'rawcensustractandblock' -  Census tract and block ID combined - also contains blockgroup assignment by extension ;\n",
      "'censustractandblock' -  Census tract and block ID combined - also contains blockgroup assignment by extension ;\n",
      "'regionidcounty' - County in which the property is located ;\n",
      "'regionidcity' -  City in which the property is located (if any) ;\n",
      "'regionidzip' -  Zip code in which the property is located ;\n",
      "'regionidneighborhood' - Neighborhood in which the property is located ;\n",
      "'roomcnt' -  Total number of rooms in the principal residence ;\n",
      "'storytypeid' -  Type of floors in a multi-story house (i.e. basement and main level, split-level, attic, etc.).  See tab for details. ;\n",
      "'typeconstructiontypeid' -  What type of construction material was used to construct the home ;\n",
      "'unitcnt' -  Number of units the structure is built into (i.e. 2 = duplex, 3 = triplex, etc...) ;\n",
      "'yardbuildingsqft17' - Patio in  yard ;\n",
      "'yardbuildingsqft26' - Storage shed/building in yard ;\n",
      "'yearbuilt' -  The Year the principal residence was built  ;\n",
      "'taxvaluedollarcnt' - The total tax assessed value of the parcel ;\n",
      "'structuretaxvaluedollarcnt' - The assessed value of the built structure on the parcel ;\n",
      "'landtaxvaluedollarcnt' - The assessed value of the land area of the parcel ;\n",
      "'taxamount' - The total property tax assessed for that assessment year ;\n",
      "'assessmentyear' - The year of the property tax assessment  ;\n",
      "'taxdelinquencyflag' - Property taxes for this parcel are past due as of 2015 ;\n",
      "'taxdelinquencyyear' - Year for which the unpaid propert taxes were due  ;\n"
     ]
    }
   ],
   "source": [
    "for i in range(dd.shape[0]):\n",
    "    print(dd['Feature'][i] + ' - ' + dd['Description'][i] + ' ;' )"
   ]
  }
 ],
 "metadata": {
  "kernelspec": {
   "display_name": "Python 3",
   "language": "python",
   "name": "python3"
  },
  "language_info": {
   "codemirror_mode": {
    "name": "ipython",
    "version": 3
   },
   "file_extension": ".py",
   "mimetype": "text/x-python",
   "name": "python",
   "nbconvert_exporter": "python",
   "pygments_lexer": "ipython3",
   "version": "3.6.2"
  }
 },
 "nbformat": 4,
 "nbformat_minor": 1
}
